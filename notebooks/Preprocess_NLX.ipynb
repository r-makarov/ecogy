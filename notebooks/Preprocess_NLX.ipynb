{
 "cells": [
  {
   "cell_type": "markdown",
   "metadata": {},
   "source": [
    "# Imports"
   ]
  },
  {
   "cell_type": "code",
   "execution_count": 1,
   "metadata": {},
   "outputs": [],
   "source": [
    "sys.path.append('/home/spike/') #path to the ecogy package"
   ]
  },
  {
   "cell_type": "code",
   "execution_count": 2,
   "metadata": {},
   "outputs": [],
   "source": [
    "from ecogy.io import LinearProbe, FilmProbe, Reader\n",
    "from ecogy.io import get_raw"
   ]
  },
  {
   "cell_type": "markdown",
   "metadata": {},
   "source": [
    "# Preprocess data"
   ]
  },
  {
   "cell_type": "markdown",
   "metadata": {},
   "source": [
    "## Probe"
   ]
  },
  {
   "cell_type": "code",
   "execution_count": 3,
   "metadata": {},
   "outputs": [
    {
     "name": "stdout",
     "output_type": "stream",
     "text": [
      "A1x16_100um.csv  XA60_FILM_IB1_IB2.csv  XA60_FILM_IB2_IB3.csv\r\n",
      "A1x16_50um.csv   XA60_FILM_IB1_IB3.csv\r\n"
     ]
    }
   ],
   "source": [
    "ls /home/spike/ecogy/probes"
   ]
  },
  {
   "cell_type": "code",
   "execution_count": null,
   "metadata": {},
   "outputs": [],
   "source": [
    "df = pd.read_csv('/home/spike/ecogy/probes/XA60_FILM_IB2_IB3.csv', index_col=0)\n",
    "fp = FilmProbe(df)\n",
    "fp.show()"
   ]
  },
  {
   "cell_type": "code",
   "execution_count": null,
   "metadata": {},
   "outputs": [],
   "source": [
    "df = pd.read_csv('/home/spike/ecogy/probes/A1x16_50um.csv', index_col=0)\n",
    "p = LinearProbe(df)\n",
    "p.show()"
   ]
  },
  {
   "cell_type": "markdown",
   "metadata": {},
   "source": [
    "## Data"
   ]
  },
  {
   "cell_type": "code",
   "execution_count": null,
   "metadata": {},
   "outputs": [],
   "source": [
    "rec = '2019-07-27_00-32-17'\n",
    "exp = rec[:10]\n",
    "year = rec[:4]\n",
    "# exp = '2019-10-14'"
   ]
  },
  {
   "cell_type": "code",
   "execution_count": null,
   "metadata": {},
   "outputs": [],
   "source": [
    "# os.listdir()"
   ]
  },
  {
   "cell_type": "code",
   "execution_count": null,
   "metadata": {},
   "outputs": [],
   "source": [
    "path = '/media/data/AUD2/2019-07-28_00-32-17/'"
   ]
  },
  {
   "cell_type": "code",
   "execution_count": null,
   "metadata": {},
   "outputs": [],
   "source": [
    "path = f'/home/spike/mounts/R_KHZPV_7322/CheetahData3/Roman/{year}/{exp}/{rec}/'\n",
    "assert path[-1] == '/'\n",
    "path"
   ]
  },
  {
   "cell_type": "markdown",
   "metadata": {},
   "source": [
    "`Reader` is a custom subclass of the `neo.io.NeuralynxIO` class\n",
    "\n",
    "- Reader \n",
    "    - has new properties:\n",
    "        - `.df_ch` \n",
    "    - has new methods:\n",
    "        - `.info()` \n",
    "        - `.select_channels()`\n",
    "        - `.get_sfreq()`"
   ]
  },
  {
   "cell_type": "code",
   "execution_count": null,
   "metadata": {},
   "outputs": [],
   "source": [
    "reader = Reader(path)\n",
    "reader.info()"
   ]
  },
  {
   "cell_type": "code",
   "execution_count": null,
   "metadata": {},
   "outputs": [],
   "source": [
    "sfreq = reader.get_sfreq()\n",
    "sfreq"
   ]
  },
  {
   "cell_type": "code",
   "execution_count": null,
   "metadata": {},
   "outputs": [],
   "source": [
    "t_start , t_stop = 1, 60"
   ]
  },
  {
   "cell_type": "code",
   "execution_count": null,
   "metadata": {},
   "outputs": [],
   "source": [
    "raw = get_raw(reader,\n",
    "              selected_channels = p.channels, \n",
    "              block_index=0, \n",
    "              seg_index=0, \n",
    "              t_start=t_start, \n",
    "              t_stop=t_stop)\n",
    "\n",
    "time = np.linspace(t_start, \n",
    "                   raw.get_data().shape[1]/sfreq + t_stop, \n",
    "                   raw.get_data().shape[1])\n",
    "\n",
    "print(f'\\n\\nRaw signal has shape {raw.get_data().shape}')"
   ]
  },
  {
   "cell_type": "markdown",
   "metadata": {},
   "source": [
    "Now we have an MNE object RawArray and can apply all functionality of MNE to it"
   ]
  },
  {
   "cell_type": "code",
   "execution_count": null,
   "metadata": {},
   "outputs": [],
   "source": [
    "plt.figure(figsize=[9,7])\n",
    "\n",
    "plt.plot(time, raw.get_data().T/10 + p.y, 'k', lw=1);\n",
    "plt.title('raw_signal')\n",
    "plt.xlabel('time,s')\n",
    "plt.ylabel('depth, um')"
   ]
  },
  {
   "cell_type": "code",
   "execution_count": null,
   "metadata": {},
   "outputs": [],
   "source": [
    "lfp = raw.copy().filter(0,1000).resample(1000)\n",
    "\n",
    "time_lfp = np.linspace(t_start, \n",
    "                   lfp.get_data().shape[1]/1000 + t_stop, \n",
    "                   lfp.get_data().shape[1])"
   ]
  },
  {
   "cell_type": "code",
   "execution_count": null,
   "metadata": {},
   "outputs": [],
   "source": [
    "plt.figure(figsize=[9,7])\n",
    "\n",
    "plt.plot(time_lfp, lfp.get_data().T/10 + p.y, 'k', lw=1);\n",
    "plt.title('LFP component')\n",
    "plt.xlabel('time,s')\n",
    "plt.ylabel('depth, um')"
   ]
  }
 ],
 "metadata": {
  "kernelspec": {
   "display_name": "astrocyte",
   "language": "python",
   "name": "astrocyte"
  },
  "language_info": {
   "codemirror_mode": {
    "name": "ipython",
    "version": 3
   },
   "file_extension": ".py",
   "mimetype": "text/x-python",
   "name": "python",
   "nbconvert_exporter": "python",
   "pygments_lexer": "ipython3",
   "version": "3.7.6"
  },
  "toc": {
   "nav_menu": {},
   "number_sections": false,
   "sideBar": true,
   "skip_h1_title": false,
   "title_cell": "Table of Contents",
   "title_sidebar": "Contents",
   "toc_cell": false,
   "toc_position": {},
   "toc_section_display": true,
   "toc_window_display": true
  }
 },
 "nbformat": 4,
 "nbformat_minor": 2
}
